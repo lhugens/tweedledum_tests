{
 "cells": [
  {
   "cell_type": "code",
   "execution_count": 1,
   "id": "6c85a6c9-26d0-4a7b-bb19-85d2f16fed46",
   "metadata": {},
   "outputs": [],
   "source": [
    "import numpy as np\n",
    "from itertools import product\n",
    "from copy import deepcopy\n",
    "\n",
    "import networkx as nx\n",
    "from qiskit.circuit.classicalfunction.boolean_expression import BooleanExpression\n",
    "\n",
    "#expression = BooleanExpression.from_dimacs_file('3sat.dimacs')"
   ]
  },
  {
   "cell_type": "code",
   "execution_count": 2,
   "id": "5e71ff6e-e889-4b9a-80ae-cc1643e91690",
   "metadata": {},
   "outputs": [],
   "source": [
    "G0 = nx.Graph()\n",
    "G0.name = 'G0'\n",
    "G0.add_nodes_from([i for i in range(5)])\n",
    "edge_lst = [(0, 1),\n",
    "            (0, 2),\n",
    "            (0, 3),\n",
    "            (1, 2),\n",
    "            (1, 3),\n",
    "            (1, 4),\n",
    "            (2, 4),\n",
    "            (3, 4)]\n",
    "\n",
    "for edge in edge_lst:\n",
    "    G0.add_edge(*edge)\n",
    "    \n",
    "#nx.draw(G0, node_color='lightblue', \n",
    "#        with_labels=True, \n",
    "#        node_size=500)"
   ]
  },
  {
   "cell_type": "code",
   "execution_count": 3,
   "id": "036d9854-ace9-4651-b5bc-e59049433a62",
   "metadata": {},
   "outputs": [],
   "source": [
    "G1 = nx.Graph()\n",
    "G1.name = 'G1'\n",
    "G1.add_nodes_from([i for i in range(7)])\n",
    "edge_lst = [(0, 1),\n",
    "           (0, 5),\n",
    "           (0, 6),\n",
    "            (1, 4),\n",
    "            (1, 2),\n",
    "            (2, 4),\n",
    "            (2, 3),\n",
    "            (3, 5),\n",
    "            (4, 5),\n",
    "            (5, 6)]\n",
    "\n",
    "for edge in edge_lst:\n",
    "    G1.add_edge(*edge)\n",
    "    \n",
    "#nx.draw(G1, node_color='lightblue', \n",
    "#        with_labels=True, \n",
    "#        node_size=500)"
   ]
  },
  {
   "cell_type": "code",
   "execution_count": 32,
   "id": "893b9d8c-2530-4165-b46d-befb9a2e4f94",
   "metadata": {},
   "outputs": [
    {
     "data": {
      "text/plain": [
       "[(2, 3)]"
      ]
     },
     "execution_count": 32,
     "metadata": {},
     "output_type": "execute_result"
    }
   ],
   "source": [
    "def non_adjacent_vertices(G):\n",
    "    # note! this does not return any pair containing vertex 0\n",
    "    lst = []\n",
    "    n = int(G.number_of_nodes())\n",
    "    \n",
    "    for i in range(1, n-1):\n",
    "        for j in range(i+1, n):\n",
    "            if not G.has_edge(i, j):\n",
    "                lst.append((i, j))\n",
    "    return lst\n",
    "\n",
    "non_adjacent_vertices(G0) # works!"
   ]
  },
  {
   "cell_type": "code",
   "execution_count": 107,
   "id": "11110ec3-ce8f-426a-9df6-64d3a35646e5",
   "metadata": {},
   "outputs": [],
   "source": [
    "def bin_str(n):\n",
    "    return bin(n).split('b')[-1]\n",
    "\n",
    "def padded_bin_str(n, N):\n",
    "    n_str = bin_str(n)\n",
    "    return '0'*(N-len(n_str)) + n_str\n",
    "\n",
    "def add1(b_str):\n",
    "    return bin_str(int(b_str, 2) + 1) \n",
    "\n",
    "class to_dimacs:\n",
    "    def __init__(self, G=None, n=None):\n",
    "        if n:\n",
    "            self.n = n\n",
    "        elif G:\n",
    "            self.n = int(G.number_of_nodes())\n",
    "            self.G = G\n",
    "        self.N = int(np.ceil(np.log2(self.n-1)))\n",
    "    \n",
    "    def index(self, i, j):\n",
    "        return self.N*i + j\n",
    "    \n",
    "    def range_indexing(self, clause_lst):\n",
    "        _clause_lst = deepcopy(clause_lst)\n",
    "        for cl in range(len(clause_lst)):\n",
    "            for el in range(len(clause_lst[cl])):\n",
    "                i, j = clause_lst[cl][el][0]\n",
    "                _clause_lst[cl][el][0] = self.index(i, j)\n",
    "        return _clause_lst\n",
    "    \n",
    "    def step1(self):\n",
    "        \n",
    "        limit_str = bin_str(self.n-2)\n",
    "        \n",
    "        clause_lst = []\n",
    "        for vertex in range(self.n-1):\n",
    "            for i, bit_i in enumerate(limit_str):\n",
    "                if bit_i == '1':\n",
    "                    continue\n",
    "                    \n",
    "                negate_str = add1(limit_str[:i+1])\n",
    "                clause = []\n",
    "                \n",
    "                for j, bit_j in enumerate(negate_str):\n",
    "                    clause.append([(vertex, j), int(bit_j)])\n",
    "                    \n",
    "                clause_lst.append(clause)\n",
    "        \n",
    "        return clause_lst\n",
    "    \n",
    "    def equality_clause(self, vertex, l_str):\n",
    "        clause = []\n",
    "        for i, bit_i in enumerate(l_str):\n",
    "            clause.append([(vertex, i), int(bit_i)])\n",
    "        return clause\n",
    "            \n",
    "    def step2(self):\n",
    "        clause_lst = []\n",
    "        \n",
    "        for vertex_i in range(self.n-1):\n",
    "            for vertex_j in range(vertex_i+1, self.n-1):\n",
    "                for l in range(2**self.N):\n",
    "                    l_str = padded_bin_str(l, self.N)\n",
    "                    c_i = self.equality_clause(vertex_i, l_str)\n",
    "                    c_j = self.equality_clause(vertex_j, l_str)\n",
    "                    clause_lst.append(c_i+c_j)\n",
    "        return clause_lst\n",
    "    \n",
    "    # NOTE! Careful with G vertex indices and any other vertex indices\n",
    "    # In the SAT variables, we only work with v_1, v_2, ..., v_(n-1),\n",
    "    # whose indices are the same in G, but inside these function we have\n",
    "    # v'_0, v'_1, ..., v'_(n-2), i.e. v'_0 = v_1\n",
    "    \n",
    "    def step3(self):\n",
    "        clause_lst = []\n",
    "        for vertex_i in range(self.n-2):\n",
    "            for vertex_j in range(vertex_i+1, self.n-1):\n",
    "                if self.G.has_edge(vertex_i+1, vertex_j+1):\n",
    "                    continue\n",
    "                    \n",
    "                for l in range(1, 2**self.N-1):\n",
    "                    c_l = self.equality_clause(vertex_i, padded_bin_str(l, self.N))\n",
    "                    c_lm = self.equality_clause(vertex_j, padded_bin_str(l-1, self.N))\n",
    "                    c_lp = self.equality_clause(vertex_j, padded_bin_str(l+1, self.N))\n",
    "                    clause_lst.append(c_l+c_lm)\n",
    "                    clause_lst.append(c_l+c_lp)\n",
    "                    \n",
    "        return clause_lst\n",
    "    \n",
    "    def step4(self):\n",
    "        clause_lst = []\n",
    "        \n",
    "        for vertex_i in range(self.n-1):\n",
    "            if self.G.has_edge(0, vertex_i+1):\n",
    "                continue\n",
    "            c0 = self.equality_clause(vertex_i, padded_bin_str(self.n-2, self.N))\n",
    "            c1 = self.equality_clause(vertex_i, padded_bin_str(0, self.N))\n",
    "            clause_lst.append(c0)\n",
    "            clause_lst.append(c1)\n",
    "        return clause_lst"
   ]
  },
  {
   "cell_type": "code",
   "execution_count": 106,
   "id": "d3bc1c35-218b-406c-b20b-c1998cb7ab1f",
   "metadata": {},
   "outputs": [],
   "source": [
    "def bool_function_generator(clause_lst):\n",
    "    def f(bool_arr):\n",
    "        a = True\n",
    "        for clause in clause_lst:\n",
    "            b = False\n",
    "            for var_i, negation in clause:\n",
    "                if negation == 1:\n",
    "                    b = b or not bool_arr[var_i]\n",
    "                else:\n",
    "                    b = b or bool_arr[var_i]\n",
    "            a = a and b\n",
    "            #if a == False:\n",
    "            #    print(clause)\n",
    "            #    break\n",
    "        return a\n",
    "    return f"
   ]
  },
  {
   "cell_type": "code",
   "execution_count": 103,
   "id": "72a894a7-b9c1-4503-a667-fd314fcb628c",
   "metadata": {},
   "outputs": [
    {
     "name": "stdout",
     "output_type": "stream",
     "text": [
      "Passed\n"
     ]
    }
   ],
   "source": [
    "# test step1\n",
    "# only assignments with assigned positions of 6 and 7 return false\n",
    "n = 7\n",
    "a = to_dimacs(n=n)\n",
    "conv = 2**np.arange(a.N-1, -1, -1)\n",
    "f = bool_function_generator(a.range_indexing(a.step1()))\n",
    "\n",
    "for i in range(1000):\n",
    "    bool_arr = np.random.choice([0, 1], size=(a.n-1)*a.N)\n",
    "    bool_arr1 = bool_arr.reshape((n-1, a.N))\n",
    "    value_arr = bool_arr1.dot(conv)\n",
    "    if f(bool_arr)==0:\n",
    "        assert(len(np.where(value_arr>n-2)[0]) > 0)\n",
    "print('Passed')"
   ]
  },
  {
   "cell_type": "code",
   "execution_count": 104,
   "id": "cfaaaf63-ad53-497c-932c-a0951b061858",
   "metadata": {},
   "outputs": [
    {
     "name": "stdout",
     "output_type": "stream",
     "text": [
      "Passed\n"
     ]
    }
   ],
   "source": [
    "# test step2\n",
    "# only assignments with repeated values return false\n",
    "n = 7\n",
    "a = to_dimacs(n=n)\n",
    "\n",
    "conv = 2**np.arange(a.N-1, -1, -1)\n",
    "f = bool_function_generator(a.range_indexing(a.step2()))\n",
    "\n",
    "for i in range(1000):\n",
    "    bool_arr = np.random.choice([0, 1], size=(a.n-1)*a.N)\n",
    "    bool_arr1 = bool_arr.reshape((n-1, a.N))\n",
    "    value_arr = bool_arr1.dot(conv)\n",
    "    if f(bool_arr)==0:\n",
    "        assert(len(np.unique(value_arr))<len(value_arr))\n",
    "                   \n",
    "print('Passed')"
   ]
  },
  {
   "cell_type": "code",
   "execution_count": 100,
   "id": "04bb79bd-d830-4ef2-bbea-aa7b5b3a6975",
   "metadata": {},
   "outputs": [
    {
     "name": "stdout",
     "output_type": "stream",
     "text": [
      "Passed\n"
     ]
    }
   ],
   "source": [
    "# test step3\n",
    "# only returns false if two non-adjacent positions have sucessive positions\n",
    "\n",
    "G = G1\n",
    "a = to_dimacs(G=G)\n",
    "non_adj = non_adjacent_vertices(G)\n",
    "\n",
    "conv = 2**np.arange(a.N-1, -1, -1)\n",
    "f = bool_function_generator(a.range_indexing(a.step3()))\n",
    "\n",
    "for i in range(1000):\n",
    "    bool_arr = np.random.choice([0, 1], size=(a.n-1)*a.N)\n",
    "    bool_arr1 = bool_arr.reshape((a.n-1, a.N))\n",
    "    value_arr = bool_arr1.dot(conv)\n",
    "    if f(bool_arr)==0:\n",
    "        found = 0\n",
    "        for i, j in non_adj:\n",
    "            if abs(value_arr[i-1]-value_arr[j-1]) == 1:\n",
    "                found = 1\n",
    "                break\n",
    "        assert(found==1)\n",
    "                   \n",
    "print('Passed')"
   ]
  },
  {
   "cell_type": "code",
   "execution_count": 137,
   "id": "2a3fa40c-16d0-4ab7-860d-053f040c1c4b",
   "metadata": {},
   "outputs": [
    {
     "name": "stdout",
     "output_type": "stream",
     "text": [
      "Passed\n"
     ]
    }
   ],
   "source": [
    "# test step4\n",
    "# only returns false if a vertex that is non-adjacent to v0 has position 0 or n-2\n",
    "\n",
    "G = G1\n",
    "a = to_dimacs(G=G)\n",
    "\n",
    "conv = 2**np.arange(a.N-1, -1, -1)\n",
    "f = bool_function_generator(a.range_indexing(a.step4()))\n",
    "\n",
    "for i in range(1000):\n",
    "    bool_arr = np.random.choice([0, 1], size=(a.n-1)*a.N)\n",
    "    bool_arr1 = bool_arr.reshape((a.n-1, a.N))\n",
    "    value_arr = bool_arr1.dot(conv)\n",
    "    if f(bool_arr)==0:\n",
    "        found = 0\n",
    "        for vertex_i in range(a.n-1):\n",
    "            if not a.G.has_edge(0, vertex_i+1) and value_arr[vertex_i] in [0, a.n-2]:\n",
    "                found = 1\n",
    "                break\n",
    "        assert(found==1)\n",
    "                   \n",
    "print('Passed')"
   ]
  },
  {
   "cell_type": "code",
   "execution_count": 110,
   "id": "6982d480-1acb-4bd6-8214-1d380b1746bb",
   "metadata": {},
   "outputs": [],
   "source": [
    "# test 2D index to 1D index conversion \n",
    "a = to_dimacs(n=20)\n",
    "b1 = a.step1()\n",
    "b2 = a.range_indexing(a.step1())\n",
    "\n",
    "\n",
    "#for c1, c2 in zip(b1, b2):\n",
    "#    print(c1)\n",
    "#    print(c2)\n",
    "#    print('')"
   ]
  },
  {
   "cell_type": "code",
   "execution_count": 138,
   "id": "8cbb6773-5cbe-44d8-b67a-184f7c1b4ff7",
   "metadata": {},
   "outputs": [
    {
     "name": "stdout",
     "output_type": "stream",
     "text": [
      "[0 2 3 1 4 5]\n",
      "[0 2 3 1 4 5]\n"
     ]
    }
   ],
   "source": [
    "# ultimate test!!! this can only print hamiltonian cycles.\n",
    "G = G1\n",
    "a = to_dimacs(G=G)\n",
    "\n",
    "conv = 2**np.arange(a.N-1, -1, -1)\n",
    "full_clauses = a.step1() + a.step2() + a.step3() + a.step4()\n",
    "f = bool_function_generator(a.range_indexing(full_clauses))\n",
    "\n",
    "found = 0\n",
    "while found == 0:\n",
    "    bool_arr = np.random.choice([0, 1], size=(a.n-1)*a.N)\n",
    "    found = int(f(bool_arr))\n",
    "bool_arr1 = bool_arr.reshape((a.n-1, a.N))\n",
    "value_arr = bool_arr1.dot(conv)\n",
    "\n",
    "vertices = np.arange(a.G.number_of_nodes())\n",
    "print(value_arr)\n",
    "print(vertices[value_arr])"
   ]
  },
  {
   "cell_type": "code",
   "execution_count": 139,
   "id": "a149c089-6778-4a2f-9842-c19f55e1c9c0",
   "metadata": {},
   "outputs": [
    {
     "ename": "TypeError",
     "evalue": "list.append() takes exactly one argument (0 given)",
     "output_type": "error",
     "traceback": [
      "\u001b[0;31m---------------------------------------------------------------------------\u001b[0m",
      "\u001b[0;31mTypeError\u001b[0m                                 Traceback (most recent call last)",
      "\u001b[0;32m/tmp/ipykernel_12747/3868183941.py\u001b[0m in \u001b[0;36m<module>\u001b[0;34m\u001b[0m\n\u001b[1;32m      5\u001b[0m \u001b[0mpath\u001b[0m \u001b[0;34m=\u001b[0m \u001b[0;34m[\u001b[0m\u001b[0;34m]\u001b[0m\u001b[0;34m\u001b[0m\u001b[0;34m\u001b[0m\u001b[0m\n\u001b[1;32m      6\u001b[0m \u001b[0;32mfor\u001b[0m \u001b[0mvertex\u001b[0m\u001b[0;34m,\u001b[0m \u001b[0mposition\u001b[0m \u001b[0;32min\u001b[0m \u001b[0menumerate\u001b[0m\u001b[0;34m(\u001b[0m\u001b[0msol\u001b[0m\u001b[0;34m)\u001b[0m\u001b[0;34m:\u001b[0m\u001b[0;34m\u001b[0m\u001b[0;34m\u001b[0m\u001b[0m\n\u001b[0;32m----> 7\u001b[0;31m     \u001b[0mpath\u001b[0m\u001b[0;34m.\u001b[0m\u001b[0mappend\u001b[0m\u001b[0;34m(\u001b[0m\u001b[0;34m)\u001b[0m\u001b[0;34m\u001b[0m\u001b[0;34m\u001b[0m\u001b[0m\n\u001b[0m\u001b[1;32m      8\u001b[0m \u001b[0;34m\u001b[0m\u001b[0m\n\u001b[1;32m      9\u001b[0m \u001b[0mprint\u001b[0m\u001b[0;34m(\u001b[0m\u001b[0mvertices\u001b[0m\u001b[0;34m)\u001b[0m\u001b[0;34m\u001b[0m\u001b[0;34m\u001b[0m\u001b[0m\n",
      "\u001b[0;31mTypeError\u001b[0m: list.append() takes exactly one argument (0 given)"
     ]
    }
   ],
   "source": [
    "sol = np.array([0, 2, 3, 1, 4, 5])\n",
    "vertices = []\n",
    "for i in range(1, a.n-1):\n",
    "    vertices.append(f'v{i}')\n",
    "path = []\n",
    "for vertex, position in enumerate(sol):\n",
    "    path.append()\n",
    "    \n",
    "print(vertices)"
   ]
  },
  {
   "cell_type": "code",
   "execution_count": 125,
   "id": "c2519d77-c68e-4537-850a-c30307837740",
   "metadata": {},
   "outputs": [
    {
     "data": {
      "text/plain": [
       "array([4, 3, 2, 5, 1, 0])"
      ]
     },
     "execution_count": 125,
     "metadata": {},
     "output_type": "execute_result"
    }
   ],
   "source": [
    "sol"
   ]
  },
  {
   "cell_type": "code",
   "execution_count": 140,
   "id": "01ede866-3e13-4578-88ab-1cdea302f6ed",
   "metadata": {},
   "outputs": [
    {
     "data": {
      "text/plain": [
       "array([1, 4, 2, 3, 5, 6])"
      ]
     },
     "execution_count": 140,
     "metadata": {},
     "output_type": "execute_result"
    }
   ],
   "source": [
    "np.argsort(sol) + 1"
   ]
  },
  {
   "cell_type": "code",
   "execution_count": 130,
   "id": "ceb34f90-3b50-47bd-82cb-76ac14b54df2",
   "metadata": {},
   "outputs": [
    {
     "data": {
      "image/png": "[encoded data removed]",
      "text/plain": [
       "<Figure size 432x288 with 1 Axes>"
      ]
     },
     "metadata": {},
     "output_type": "display_data"
    }
   ],
   "source": [
    "nx.draw(G1, node_color='lightblue', \n",
    "        with_labels=True, \n",
    "        node_size=500)"
   ]
  },
  {
   "cell_type": "code",
   "execution_count": 142,
   "id": "e2b4a021-5ef2-4cab-8866-9e520b699ff2",
   "metadata": {},
   "outputs": [
    {
     "data": {
      "text/plain": [
       "228"
      ]
     },
     "execution_count": 142,
     "metadata": {},
     "output_type": "execute_result"
    }
   ],
   "source": [
    "len(full_clauses)"
   ]
  },
  {
   "cell_type": "code",
   "execution_count": 143,
   "id": "85f36054-bf1b-431c-9413-3e73b63cdf7f",
   "metadata": {},
   "outputs": [
    {
     "data": {
      "text/plain": [
       "18"
      ]
     },
     "execution_count": 143,
     "metadata": {},
     "output_type": "execute_result"
    }
   ],
   "source": [
    "6*3"
   ]
  },
  {
   "cell_type": "code",
   "execution_count": 144,
   "id": "6a7ae710-8fa0-4b91-a810-78c5658f6aa5",
   "metadata": {},
   "outputs": [
    {
     "data": {
      "text/plain": [
       "12.666666666666666"
      ]
     },
     "execution_count": 144,
     "metadata": {},
     "output_type": "execute_result"
    }
   ],
   "source": [
    "228/18"
   ]
  },
  {
   "cell_type": "code",
   "execution_count": null,
   "id": "00b49759-f9d3-470a-9c12-3e610dfed6b7",
   "metadata": {},
   "outputs": [],
   "source": []
  }
 ],
 "metadata": {
  "kernelspec": {
   "display_name": "Python 3 (ipykernel)",
   "language": "python",
   "name": "python3"
  },
  "language_info": {
   "codemirror_mode": {
    "name": "ipython",
    "version": 3
   },
   "file_extension": ".py",
   "mimetype": "text/x-python",
   "name": "python",
   "nbconvert_exporter": "python",
   "pygments_lexer": "ipython3",
   "version": "3.9.9"
  }
 },
 "nbformat": 4,
 "nbformat_minor": 5
}
